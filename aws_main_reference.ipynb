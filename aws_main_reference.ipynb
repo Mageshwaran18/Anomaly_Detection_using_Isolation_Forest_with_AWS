{
 "cells": [
  {
   "cell_type": "markdown",
   "id": "1c4565e4",
   "metadata": {},
   "source": [
    "<h2> Data Preparation</h2>"
   ]
  },
  {
   "cell_type": "code",
   "execution_count": 5,
   "id": "f2ff4357",
   "metadata": {},
   "outputs": [
    {
     "data": {
      "text/plain": [
       "('data.zip', <http.client.HTTPMessage at 0x7f7e36835270>)"
      ]
     },
     "execution_count": 5,
     "metadata": {},
     "output_type": "execute_result"
    }
   ],
   "source": [
    "import urllib.request\n",
    "\n",
    "urllib.request.urlretrieve('https://archive.ics.uci.edu/static/public/53/iris.zip','data.zip')"
   ]
  },
  {
   "cell_type": "code",
   "execution_count": 6,
   "id": "896b2b02",
   "metadata": {},
   "outputs": [],
   "source": [
    "!mkdir data"
   ]
  },
  {
   "cell_type": "code",
   "execution_count": 7,
   "id": "fd96ef3f",
   "metadata": {},
   "outputs": [
    {
     "name": "stdout",
     "output_type": "stream",
     "text": [
      "Archive:  data.zip\n",
      "  inflating: data/Index              \n",
      "  inflating: data/bezdekIris.data    \n",
      "  inflating: data/iris.data          \n",
      "  inflating: data/iris.names         \n"
     ]
    }
   ],
   "source": [
    "!unzip data.zip -d data/"
   ]
  },
  {
   "cell_type": "code",
   "execution_count": 10,
   "id": "a459b141",
   "metadata": {},
   "outputs": [
    {
     "name": "stdout",
     "output_type": "stream",
     "text": [
      "       0    1    2    3               4\n",
      "0    5.1  3.5  1.4  0.2     Iris-setosa\n",
      "1    4.9  3.0  1.4  0.2     Iris-setosa\n",
      "2    4.7  3.2  1.3  0.2     Iris-setosa\n",
      "3    4.6  3.1  1.5  0.2     Iris-setosa\n",
      "4    5.0  3.6  1.4  0.2     Iris-setosa\n",
      "..   ...  ...  ...  ...             ...\n",
      "145  6.7  3.0  5.2  2.3  Iris-virginica\n",
      "146  6.3  2.5  5.0  1.9  Iris-virginica\n",
      "147  6.5  3.0  5.2  2.0  Iris-virginica\n",
      "148  6.2  3.4  5.4  2.3  Iris-virginica\n",
      "149  5.9  3.0  5.1  1.8  Iris-virginica\n",
      "\n",
      "[150 rows x 5 columns]\n"
     ]
    }
   ],
   "source": [
    "import pandas as pd \n",
    "\n",
    "data = pd.read_csv('data/iris.data',header=None)\n",
    "\n",
    "print(data)"
   ]
  },
  {
   "cell_type": "code",
   "execution_count": 11,
   "id": "8bb1a165",
   "metadata": {},
   "outputs": [
    {
     "name": "stdout",
     "output_type": "stream",
     "text": [
      "       0    1    2    3  4\n",
      "0    5.1  3.5  1.4  0.2  0\n",
      "1    4.9  3.0  1.4  0.2  0\n",
      "2    4.7  3.2  1.3  0.2  0\n",
      "3    4.6  3.1  1.5  0.2  0\n",
      "4    5.0  3.6  1.4  0.2  0\n",
      "..   ...  ...  ...  ... ..\n",
      "145  6.7  3.0  5.2  2.3  1\n",
      "146  6.3  2.5  5.0  1.9  1\n",
      "147  6.5  3.0  5.2  2.0  1\n",
      "148  6.2  3.4  5.4  2.3  1\n",
      "149  5.9  3.0  5.1  1.8  1\n",
      "\n",
      "[150 rows x 5 columns]\n"
     ]
    }
   ],
   "source": [
    "# Converting the class labels into numerical values\n",
    "data[4]=data[4].replace('Iris-setosa',0)\n",
    "data[4]=data[4].replace('Iris-virginica',1)\n",
    "data[4]=data[4].replace('Iris-versicolor',2)\n",
    "print(data)\n"
   ]
  },
  {
   "cell_type": "code",
   "execution_count": 14,
   "id": "09de60c2",
   "metadata": {},
   "outputs": [
    {
     "data": {
      "text/html": [
       "<div>\n",
       "<style scoped>\n",
       "    .dataframe tbody tr th:only-of-type {\n",
       "        vertical-align: middle;\n",
       "    }\n",
       "\n",
       "    .dataframe tbody tr th {\n",
       "        vertical-align: top;\n",
       "    }\n",
       "\n",
       "    .dataframe thead th {\n",
       "        text-align: right;\n",
       "    }\n",
       "</style>\n",
       "<table border=\"1\" class=\"dataframe\">\n",
       "  <thead>\n",
       "    <tr style=\"text-align: right;\">\n",
       "      <th></th>\n",
       "      <th>0</th>\n",
       "      <th>1</th>\n",
       "      <th>2</th>\n",
       "      <th>3</th>\n",
       "      <th>4</th>\n",
       "    </tr>\n",
       "  </thead>\n",
       "  <tbody>\n",
       "    <tr>\n",
       "      <th>0</th>\n",
       "      <td>5.4</td>\n",
       "      <td>3.4</td>\n",
       "      <td>1.7</td>\n",
       "      <td>0.2</td>\n",
       "      <td>0</td>\n",
       "    </tr>\n",
       "    <tr>\n",
       "      <th>1</th>\n",
       "      <td>5.1</td>\n",
       "      <td>3.8</td>\n",
       "      <td>1.6</td>\n",
       "      <td>0.2</td>\n",
       "      <td>0</td>\n",
       "    </tr>\n",
       "    <tr>\n",
       "      <th>2</th>\n",
       "      <td>6.1</td>\n",
       "      <td>2.8</td>\n",
       "      <td>4.0</td>\n",
       "      <td>1.3</td>\n",
       "      <td>2</td>\n",
       "    </tr>\n",
       "    <tr>\n",
       "      <th>3</th>\n",
       "      <td>5.4</td>\n",
       "      <td>3.4</td>\n",
       "      <td>1.5</td>\n",
       "      <td>0.4</td>\n",
       "      <td>0</td>\n",
       "    </tr>\n",
       "    <tr>\n",
       "      <th>4</th>\n",
       "      <td>5.9</td>\n",
       "      <td>3.2</td>\n",
       "      <td>4.8</td>\n",
       "      <td>1.8</td>\n",
       "      <td>2</td>\n",
       "    </tr>\n",
       "  </tbody>\n",
       "</table>\n",
       "</div>"
      ],
      "text/plain": [
       "     0    1    2    3  4\n",
       "0  5.4  3.4  1.7  0.2  0\n",
       "1  5.1  3.8  1.6  0.2  0\n",
       "2  6.1  2.8  4.0  1.3  2\n",
       "3  5.4  3.4  1.5  0.4  0\n",
       "4  5.9  3.2  4.8  1.8  2"
      ]
     },
     "execution_count": 14,
     "metadata": {},
     "output_type": "execute_result"
    }
   ],
   "source": [
    "#Shuffling the full data and reseting the index as new \n",
    "data = data.sample(frac=1).reset_index(drop=True)\n",
    "data.head()"
   ]
  },
  {
   "cell_type": "code",
   "execution_count": 16,
   "id": "ac6f143f",
   "metadata": {},
   "outputs": [
    {
     "data": {
      "text/html": [
       "<div>\n",
       "<style scoped>\n",
       "    .dataframe tbody tr th:only-of-type {\n",
       "        vertical-align: middle;\n",
       "    }\n",
       "\n",
       "    .dataframe tbody tr th {\n",
       "        vertical-align: top;\n",
       "    }\n",
       "\n",
       "    .dataframe thead th {\n",
       "        text-align: right;\n",
       "    }\n",
       "</style>\n",
       "<table border=\"1\" class=\"dataframe\">\n",
       "  <thead>\n",
       "    <tr style=\"text-align: right;\">\n",
       "      <th></th>\n",
       "      <th>4</th>\n",
       "      <th>0</th>\n",
       "      <th>1</th>\n",
       "      <th>2</th>\n",
       "      <th>3</th>\n",
       "    </tr>\n",
       "  </thead>\n",
       "  <tbody>\n",
       "    <tr>\n",
       "      <th>0</th>\n",
       "      <td>0</td>\n",
       "      <td>5.4</td>\n",
       "      <td>3.4</td>\n",
       "      <td>1.7</td>\n",
       "      <td>0.2</td>\n",
       "    </tr>\n",
       "    <tr>\n",
       "      <th>1</th>\n",
       "      <td>0</td>\n",
       "      <td>5.1</td>\n",
       "      <td>3.8</td>\n",
       "      <td>1.6</td>\n",
       "      <td>0.2</td>\n",
       "    </tr>\n",
       "    <tr>\n",
       "      <th>2</th>\n",
       "      <td>2</td>\n",
       "      <td>6.1</td>\n",
       "      <td>2.8</td>\n",
       "      <td>4.0</td>\n",
       "      <td>1.3</td>\n",
       "    </tr>\n",
       "    <tr>\n",
       "      <th>3</th>\n",
       "      <td>0</td>\n",
       "      <td>5.4</td>\n",
       "      <td>3.4</td>\n",
       "      <td>1.5</td>\n",
       "      <td>0.4</td>\n",
       "    </tr>\n",
       "    <tr>\n",
       "      <th>4</th>\n",
       "      <td>2</td>\n",
       "      <td>5.9</td>\n",
       "      <td>3.2</td>\n",
       "      <td>4.8</td>\n",
       "      <td>1.8</td>\n",
       "    </tr>\n",
       "  </tbody>\n",
       "</table>\n",
       "</div>"
      ],
      "text/plain": [
       "   4    0    1    2    3\n",
       "0  0  5.4  3.4  1.7  0.2\n",
       "1  0  5.1  3.8  1.6  0.2\n",
       "2  2  6.1  2.8  4.0  1.3\n",
       "3  0  5.4  3.4  1.5  0.4\n",
       "4  2  5.9  3.2  4.8  1.8"
      ]
     },
     "execution_count": 16,
     "metadata": {},
     "output_type": "execute_result"
    }
   ],
   "source": [
    "# Moving the label column to the first column\n",
    "data=data[[4,0,1,2,3]]\n",
    "data.head()"
   ]
  },
  {
   "cell_type": "code",
   "execution_count": 18,
   "id": "ce181767",
   "metadata": {},
   "outputs": [
    {
     "data": {
      "text/html": [
       "<div>\n",
       "<style scoped>\n",
       "    .dataframe tbody tr th:only-of-type {\n",
       "        vertical-align: middle;\n",
       "    }\n",
       "\n",
       "    .dataframe tbody tr th {\n",
       "        vertical-align: top;\n",
       "    }\n",
       "\n",
       "    .dataframe thead th {\n",
       "        text-align: right;\n",
       "    }\n",
       "</style>\n",
       "<table border=\"1\" class=\"dataframe\">\n",
       "  <thead>\n",
       "    <tr style=\"text-align: right;\">\n",
       "      <th></th>\n",
       "      <th>4</th>\n",
       "      <th>0</th>\n",
       "      <th>1</th>\n",
       "      <th>2</th>\n",
       "      <th>3</th>\n",
       "    </tr>\n",
       "  </thead>\n",
       "  <tbody>\n",
       "    <tr>\n",
       "      <th>count</th>\n",
       "      <td>150.000000</td>\n",
       "      <td>150.000000</td>\n",
       "      <td>150.000000</td>\n",
       "      <td>150.000000</td>\n",
       "      <td>150.000000</td>\n",
       "    </tr>\n",
       "    <tr>\n",
       "      <th>mean</th>\n",
       "      <td>1.000000</td>\n",
       "      <td>5.843333</td>\n",
       "      <td>3.054000</td>\n",
       "      <td>3.758667</td>\n",
       "      <td>1.198667</td>\n",
       "    </tr>\n",
       "    <tr>\n",
       "      <th>std</th>\n",
       "      <td>0.819232</td>\n",
       "      <td>0.828066</td>\n",
       "      <td>0.433594</td>\n",
       "      <td>1.764420</td>\n",
       "      <td>0.763161</td>\n",
       "    </tr>\n",
       "    <tr>\n",
       "      <th>min</th>\n",
       "      <td>0.000000</td>\n",
       "      <td>4.300000</td>\n",
       "      <td>2.000000</td>\n",
       "      <td>1.000000</td>\n",
       "      <td>0.100000</td>\n",
       "    </tr>\n",
       "    <tr>\n",
       "      <th>25%</th>\n",
       "      <td>0.000000</td>\n",
       "      <td>5.100000</td>\n",
       "      <td>2.800000</td>\n",
       "      <td>1.600000</td>\n",
       "      <td>0.300000</td>\n",
       "    </tr>\n",
       "    <tr>\n",
       "      <th>50%</th>\n",
       "      <td>1.000000</td>\n",
       "      <td>5.800000</td>\n",
       "      <td>3.000000</td>\n",
       "      <td>4.350000</td>\n",
       "      <td>1.300000</td>\n",
       "    </tr>\n",
       "    <tr>\n",
       "      <th>75%</th>\n",
       "      <td>2.000000</td>\n",
       "      <td>6.400000</td>\n",
       "      <td>3.300000</td>\n",
       "      <td>5.100000</td>\n",
       "      <td>1.800000</td>\n",
       "    </tr>\n",
       "    <tr>\n",
       "      <th>max</th>\n",
       "      <td>2.000000</td>\n",
       "      <td>7.900000</td>\n",
       "      <td>4.400000</td>\n",
       "      <td>6.900000</td>\n",
       "      <td>2.500000</td>\n",
       "    </tr>\n",
       "  </tbody>\n",
       "</table>\n",
       "</div>"
      ],
      "text/plain": [
       "                4           0           1           2           3\n",
       "count  150.000000  150.000000  150.000000  150.000000  150.000000\n",
       "mean     1.000000    5.843333    3.054000    3.758667    1.198667\n",
       "std      0.819232    0.828066    0.433594    1.764420    0.763161\n",
       "min      0.000000    4.300000    2.000000    1.000000    0.100000\n",
       "25%      0.000000    5.100000    2.800000    1.600000    0.300000\n",
       "50%      1.000000    5.800000    3.000000    4.350000    1.300000\n",
       "75%      2.000000    6.400000    3.300000    5.100000    1.800000\n",
       "max      2.000000    7.900000    4.400000    6.900000    2.500000"
      ]
     },
     "execution_count": 18,
     "metadata": {},
     "output_type": "execute_result"
    }
   ],
   "source": [
    "data.describe()"
   ]
  },
  {
   "cell_type": "code",
   "execution_count": 19,
   "id": "55022b99",
   "metadata": {},
   "outputs": [],
   "source": [
    "# Spliting the data  (train , test)\n",
    "\n",
    "train_data = data[:120]\n",
    "val_data = data[120:]\n"
   ]
  },
  {
   "cell_type": "markdown",
   "id": "8ad7c919",
   "metadata": {},
   "source": [
    "<h2> Move Data into S3 bucket </h2"
   ]
  },
  {
   "cell_type": "code",
   "execution_count": 20,
   "id": "ceea64b6",
   "metadata": {},
   "outputs": [],
   "source": [
    "import boto3\n",
    "\n",
    "bucket_name = 'sagemaker-iris-plant-classification'\n",
    "train_data.to_csv('data.csv',header=False,index=False)\n",
    "key='data/train/data'\n",
    "url='s3://{}/{}'.format(bucket_name,key)\n",
    "boto3.Session().resource('s3').Bucket(bucket_name).Object(key).upload_file('data.csv')\n",
    "\n",
    "\n",
    "val_data.to_csv('data.csv',header=False,index=False)\n",
    "key='data/val/data'\n",
    "url='s3://{}/{}'.format(bucket_name,key)\n",
    "boto3.Session().resource('s3').Bucket(bucket_name).Object(key).upload_file('data.csv')"
   ]
  },
  {
   "cell_type": "markdown",
   "id": "905d17f9",
   "metadata": {},
   "source": [
    "<h2>Create Model</h2>"
   ]
  },
  {
   "cell_type": "code",
   "execution_count": 23,
   "id": "2b198cdc",
   "metadata": {},
   "outputs": [
    {
     "name": "stderr",
     "output_type": "stream",
     "text": [
      "The method get_image_uri has been renamed in sagemaker>=2.\n",
      "See: https://sagemaker.readthedocs.io/en/stable/v2.html for details.\n",
      "train_instance_count has been renamed in sagemaker>=2.\n",
      "See: https://sagemaker.readthedocs.io/en/stable/v2.html for details.\n",
      "train_instance_type has been renamed in sagemaker>=2.\n",
      "See: https://sagemaker.readthedocs.io/en/stable/v2.html for details.\n",
      "train_volume_size has been renamed in sagemaker>=2.\n",
      "See: https://sagemaker.readthedocs.io/en/stable/v2.html for details.\n"
     ]
    }
   ],
   "source": [
    "import sagemaker\n",
    "from sagemaker.amazon.amazon_estimator import get_image_uri\n",
    "from sagemaker import get_execution_role\n",
    "\n",
    "key='model/xgb_model'\n",
    "\n",
    "s3_output_location = url='s3://{}/{}'.format(bucket_name,key)\n",
    "\n",
    "xgb_model = sagemaker.estimator.Estimator(\n",
    "    get_image_uri(boto3.Session().region_name,'xgboost'), # Retrives the docker image of the xgboost\n",
    "    get_execution_role(), # Used to get the IAM user role to run or access the AWS resources\n",
    "    train_instance_count=1, # Defines the number of instances required for training \n",
    "    train_instance_type='ml.m4.xlarge', # Defines the type of instance used for training\n",
    "    train_volume_size=5, # Defines the storage space need to be allocated while training the model\n",
    "    output=s3_output_location, # Defines the location where the model is need to be saved\n",
    "    sagemaker_session=sagemaker.Session() # Creates an session for the sagemaker to access the resources\n",
    ")"
   ]
  },
  {
   "cell_type": "markdown",
   "id": "e5e6ab18",
   "metadata": {},
   "source": [
    "<h2>Train the Model</h2> "
   ]
  },
  {
   "cell_type": "code",
   "execution_count": 30,
   "id": "6e87e1d9",
   "metadata": {},
   "outputs": [],
   "source": [
    "xgb_model.set_hyperparameters(max_depth=5, #depth of the decission tree \n",
    "                              eta=0.2, # Learning rate of the model \n",
    "                              gamma=4, # The minimum error rate that should be reduced to make a split on the node\n",
    "                              min_child_weight=6, # Define the number of data points should be in a branch \n",
    "                              silent=0, # Helps to print the logs while training \n",
    "                              objective='multi:softmax', # Used for the multiclass classification\n",
    "                              num_class=3, # Defines the number of classes in the dataset \n",
    "                              num_round=10) # Defines the number of epochs"
   ]
  },
  {
   "cell_type": "code",
   "execution_count": 31,
   "id": "3355d33a",
   "metadata": {},
   "outputs": [
    {
     "name": "stderr",
     "output_type": "stream",
     "text": [
      "WARNING:sagemaker.deprecations:The class sagemaker.session.s3_input has been renamed in sagemaker>=2.\n",
      "See: https://sagemaker.readthedocs.io/en/stable/v2.html for details.\n",
      "WARNING:sagemaker.deprecations:The class sagemaker.session.s3_input has been renamed in sagemaker>=2.\n",
      "See: https://sagemaker.readthedocs.io/en/stable/v2.html for details.\n"
     ]
    }
   ],
   "source": [
    "bucket_name = 'sagemaker-iris-plant-classification'\n",
    "train_data = 's3://{}/{}'.format(bucket_name , 'data/train')\n",
    "val_data = 's3://{}/{}'.format(bucket_name , 'data/val')\n",
    "\n",
    "train_channel = sagemaker.session.s3_input(train_data,content_type='text/csv')\n",
    "val_channel = sagemaker.session.s3_input(val_data,content_type='text/csv')"
   ]
  },
  {
   "cell_type": "code",
   "execution_count": 32,
   "id": "afde4c35",
   "metadata": {},
   "outputs": [
    {
     "name": "stderr",
     "output_type": "stream",
     "text": [
      "INFO:sagemaker:Creating training-job with name: xgboost-2024-11-10-09-38-39-142\n"
     ]
    },
    {
     "name": "stdout",
     "output_type": "stream",
     "text": [
      "2024-11-10 09:38:40 Starting - Starting the training job...\n",
      "2024-11-10 09:38:54 Starting - Preparing the instances for training...\n",
      "2024-11-10 09:39:26 Downloading - Downloading input data...\n",
      "2024-11-10 09:40:01 Downloading - Downloading the training image.....\u001b[34mArguments: train\u001b[0m\n",
      "\u001b[34m[2024-11-10:09:40:58:INFO] Running standalone xgboost training.\u001b[0m\n",
      "\u001b[34m[2024-11-10:09:40:58:INFO] File size need to be processed in the node: 0.0mb. Available memory size in the node: 8446.32mb\u001b[0m\n",
      "\u001b[34m[2024-11-10:09:40:58:INFO] Determined delimiter of CSV input is ','\u001b[0m\n",
      "\u001b[34m[09:40:58] S3DistributionType set as FullyReplicated\u001b[0m\n",
      "\u001b[34m[09:40:58] 120x4 matrix with 480 entries loaded from /opt/ml/input/data/train?format=csv&label_column=0&delimiter=,\u001b[0m\n",
      "\u001b[34m[2024-11-10:09:40:58:INFO] Determined delimiter of CSV input is ','\u001b[0m\n",
      "\u001b[34m[09:40:58] S3DistributionType set as FullyReplicated\u001b[0m\n",
      "\u001b[34m[09:40:58] 30x4 matrix with 120 entries loaded from /opt/ml/input/data/validation?format=csv&label_column=0&delimiter=,\u001b[0m\n",
      "\u001b[34m[09:40:58] src/tree/updater_prune.cc:74: tree pruning end, 1 roots, 2 extra nodes, 0 pruned nodes, max_depth=1\u001b[0m\n",
      "\u001b[34m[09:40:58] src/tree/updater_prune.cc:74: tree pruning end, 1 roots, 2 extra nodes, 2 pruned nodes, max_depth=1\u001b[0m\n",
      "\u001b[34m[09:40:58] src/tree/updater_prune.cc:74: tree pruning end, 1 roots, 4 extra nodes, 2 pruned nodes, max_depth=2\u001b[0m\n",
      "\u001b[34m[0]#011train-merror:0.033333#011validation-merror:0.1\u001b[0m\n",
      "\u001b[34m[09:40:58] src/tree/updater_prune.cc:74: tree pruning end, 1 roots, 2 extra nodes, 0 pruned nodes, max_depth=1\u001b[0m\n",
      "\u001b[34m[09:40:58] src/tree/updater_prune.cc:74: tree pruning end, 1 roots, 2 extra nodes, 2 pruned nodes, max_depth=1\u001b[0m\n",
      "\u001b[34m[09:40:58] src/tree/updater_prune.cc:74: tree pruning end, 1 roots, 4 extra nodes, 2 pruned nodes, max_depth=2\u001b[0m\n",
      "\u001b[34m[1]#011train-merror:0.033333#011validation-merror:0.1\u001b[0m\n",
      "\u001b[34m[09:40:58] src/tree/updater_prune.cc:74: tree pruning end, 1 roots, 2 extra nodes, 0 pruned nodes, max_depth=1\u001b[0m\n",
      "\u001b[34m[09:40:58] src/tree/updater_prune.cc:74: tree pruning end, 1 roots, 2 extra nodes, 2 pruned nodes, max_depth=1\u001b[0m\n",
      "\u001b[34m[09:40:58] src/tree/updater_prune.cc:74: tree pruning end, 1 roots, 4 extra nodes, 0 pruned nodes, max_depth=2\u001b[0m\n",
      "\u001b[34m[2]#011train-merror:0.033333#011validation-merror:0.1\u001b[0m\n",
      "\u001b[34m[09:40:58] src/tree/updater_prune.cc:74: tree pruning end, 1 roots, 2 extra nodes, 0 pruned nodes, max_depth=1\u001b[0m\n",
      "\u001b[34m[09:40:58] src/tree/updater_prune.cc:74: tree pruning end, 1 roots, 2 extra nodes, 2 pruned nodes, max_depth=1\u001b[0m\n",
      "\u001b[34m[09:40:58] src/tree/updater_prune.cc:74: tree pruning end, 1 roots, 4 extra nodes, 0 pruned nodes, max_depth=2\u001b[0m\n",
      "\u001b[34m[3]#011train-merror:0.033333#011validation-merror:0.1\u001b[0m\n",
      "\u001b[34m[09:40:58] src/tree/updater_prune.cc:74: tree pruning end, 1 roots, 2 extra nodes, 0 pruned nodes, max_depth=1\u001b[0m\n",
      "\u001b[34m[09:40:58] src/tree/updater_prune.cc:74: tree pruning end, 1 roots, 2 extra nodes, 2 pruned nodes, max_depth=1\u001b[0m\n",
      "\u001b[34m[09:40:58] src/tree/updater_prune.cc:74: tree pruning end, 1 roots, 4 extra nodes, 0 pruned nodes, max_depth=2\u001b[0m\n",
      "\u001b[34m[4]#011train-merror:0.025#011validation-merror:0.1\u001b[0m\n",
      "\u001b[34m[09:40:58] src/tree/updater_prune.cc:74: tree pruning end, 1 roots, 2 extra nodes, 0 pruned nodes, max_depth=1\u001b[0m\n",
      "\u001b[34m[09:40:58] src/tree/updater_prune.cc:74: tree pruning end, 1 roots, 2 extra nodes, 2 pruned nodes, max_depth=1\u001b[0m\n",
      "\u001b[34m[09:40:58] src/tree/updater_prune.cc:74: tree pruning end, 1 roots, 4 extra nodes, 0 pruned nodes, max_depth=2\u001b[0m\n",
      "\u001b[34m[5]#011train-merror:0.025#011validation-merror:0.1\u001b[0m\n",
      "\u001b[34m[09:40:58] src/tree/updater_prune.cc:74: tree pruning end, 1 roots, 2 extra nodes, 0 pruned nodes, max_depth=1\u001b[0m\n",
      "\u001b[34m[09:40:58] src/tree/updater_prune.cc:74: tree pruning end, 1 roots, 2 extra nodes, 2 pruned nodes, max_depth=1\u001b[0m\n",
      "\u001b[34m[09:40:58] src/tree/updater_prune.cc:74: tree pruning end, 1 roots, 4 extra nodes, 2 pruned nodes, max_depth=2\u001b[0m\n",
      "\u001b[34m[6]#011train-merror:0.025#011validation-merror:0.1\u001b[0m\n",
      "\u001b[34m[09:40:58] src/tree/updater_prune.cc:74: tree pruning end, 1 roots, 2 extra nodes, 0 pruned nodes, max_depth=1\u001b[0m\n",
      "\u001b[34m[09:40:58] src/tree/updater_prune.cc:74: tree pruning end, 1 roots, 2 extra nodes, 2 pruned nodes, max_depth=1\u001b[0m\n",
      "\u001b[34m[09:40:58] src/tree/updater_prune.cc:74: tree pruning end, 1 roots, 4 extra nodes, 2 pruned nodes, max_depth=2\u001b[0m\n",
      "\u001b[34m[7]#011train-merror:0.025#011validation-merror:0.1\u001b[0m\n",
      "\u001b[34m[09:40:58] src/tree/updater_prune.cc:74: tree pruning end, 1 roots, 2 extra nodes, 0 pruned nodes, max_depth=1\u001b[0m\n",
      "\u001b[34m[09:40:58] src/tree/updater_prune.cc:74: tree pruning end, 1 roots, 2 extra nodes, 2 pruned nodes, max_depth=1\u001b[0m\n",
      "\u001b[34m[09:40:58] src/tree/updater_prune.cc:74: tree pruning end, 1 roots, 4 extra nodes, 2 pruned nodes, max_depth=2\u001b[0m\n",
      "\u001b[34m[8]#011train-merror:0.025#011validation-merror:0.1\u001b[0m\n",
      "\u001b[34m[09:40:58] src/tree/updater_prune.cc:74: tree pruning end, 1 roots, 2 extra nodes, 0 pruned nodes, max_depth=1\u001b[0m\n",
      "\u001b[34m[09:40:58] src/tree/updater_prune.cc:74: tree pruning end, 1 roots, 2 extra nodes, 2 pruned nodes, max_depth=1\u001b[0m\n",
      "\u001b[34m[09:40:58] src/tree/updater_prune.cc:74: tree pruning end, 1 roots, 0 extra nodes, 4 pruned nodes, max_depth=0\u001b[0m\n",
      "\u001b[34m[9]#011train-merror:0.025#011validation-merror:0.1\u001b[0m\n",
      "\n",
      "2024-11-10 09:41:15 Training - Training image download completed. Training in progress.\n",
      "2024-11-10 09:41:15 Uploading - Uploading generated training model\n",
      "2024-11-10 09:41:15 Completed - Training job completed\n",
      "Training seconds: 110\n",
      "Billable seconds: 110\n"
     ]
    }
   ],
   "source": [
    "data_channels = {'train' : train_channel , 'validation' : val_channel}\n",
    "xgb_model.fit(inputs=data_channels)"
   ]
  },
  {
   "cell_type": "markdown",
   "id": "5a1c297f",
   "metadata": {},
   "source": [
    "<h2> Deploy the Model </h2>"
   ]
  },
  {
   "cell_type": "code",
   "execution_count": 33,
   "id": "ea996dc0",
   "metadata": {},
   "outputs": [
    {
     "name": "stderr",
     "output_type": "stream",
     "text": [
      "INFO:sagemaker:Creating model with name: xgboost-2024-11-10-09-45-24-951\n",
      "INFO:sagemaker:Creating endpoint-config with name xgboost-2024-11-10-09-45-24-951\n",
      "INFO:sagemaker:Creating endpoint with name xgboost-2024-11-10-09-45-24-951\n"
     ]
    },
    {
     "name": "stdout",
     "output_type": "stream",
     "text": [
      "------!"
     ]
    }
   ],
   "source": [
    "xgb_predictor = xgb_model.deploy(\n",
    "                                 initial_instance_count=1, # No of instances to be deployed \n",
    "                                 instance_type='ml.m4.xlarge' # Type of the instance to be deployed\n",
    "                                 )"
   ]
  },
  {
   "cell_type": "code",
   "execution_count": null,
   "id": "9cd337eb",
   "metadata": {},
   "outputs": [],
   "source": []
  }
 ],
 "metadata": {
  "kernelspec": {
   "display_name": "base",
   "language": "python",
   "name": "python3"
  },
  "language_info": {
   "codemirror_mode": {
    "name": "ipython",
    "version": 3
   },
   "file_extension": ".py",
   "mimetype": "text/x-python",
   "name": "python",
   "nbconvert_exporter": "python",
   "pygments_lexer": "ipython3",
   "version": "3.12.7"
  }
 },
 "nbformat": 4,
 "nbformat_minor": 5
}
