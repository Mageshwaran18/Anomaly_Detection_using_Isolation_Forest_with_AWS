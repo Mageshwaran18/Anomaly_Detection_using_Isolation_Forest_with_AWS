{
 "cells": [
  {
   "cell_type": "markdown",
   "metadata": {},
   "source": [
    "## Isolation Forest\n",
    "\n",
    "Isolation Forest is a machine learning algorithm used mainly for anomaly detection (finding unusual or \"outlier\" data points that don't fit well with the rest of the data). It's especially helpful when you want to identify rare, unexpected events—like fraud detection or equipment failure prediction.\n",
    "\n",
    "### How It Works:\n",
    "1. **Random Splits**: The algorithm creates multiple decision trees by randomly splitting the data. Each split separates the data into smaller groups.\n",
    "2. **Isolation of Anomalies**: Outliers (anomalies) are more isolated and separated from the majority of data points, so they need fewer splits to become \"isolated\" in a branch of a tree.\n",
    "3. **Scoring**: The algorithm calculates a score based on how quickly a data point is isolated in a tree. Points that are isolated with fewer splits are considered more likely to be anomalies.\n",
    "\n",
    "### What Is the Anomaly Score?\n",
    "The anomaly score is a value between 0 and 1 that tells us how \"isolated\" a point is compared to the rest of the data. A higher anomaly score means the data point is more likely to be an anomaly (unusual or rare), while a lower score means it's similar to other points in the dataset.\n",
    "\n",
    "### Score Calculation Formula:\n",
    "![Anomaly Score Formula](Images\\anomaly_score.png)\n",
    "\n",
    "#### Where:\n",
    "- `E(h(x))`: The average path length of x across the trees\n",
    "- `c(n)`: It's a scaling factor to make scores easier to interpret, regardless of dataset size.It just adjusts the path length to account for the number of points in your dataset. This way, the anomaly score stays consistent even if you have a very large or small dataset.Without c(n), scores could vary too much with different dataset sizes, making it hard to interpret them reliably.\n",
    "\n",
    "  <details>\n",
    "  <summary>Examples of Anomaly Score Calculation</summary>\n",
    "\n",
    "  Example 1: Small Dataset (10 Points)\n",
    "  Suppose you have a small dataset of 10 points. You want to calculate the anomaly score for a specific point, Point A.\n",
    "\n",
    "  Path Length: Let's say it takes 3 splits on average to isolate Point A in this small dataset.\n",
    "\n",
    "  Calculate c(n):\n",
    "  For a dataset of 10 points, c(10) will be a smaller number—around 4.5 (since there are fewer points to split).\n",
    "\n",
    "  Anomaly Score:\n",
    "  s(x,n) = 2^(-3/4.5) ≈ 2^(-0.67) ≈ 0.63\n",
    "\n",
    "  Example 2: Large Dataset (1000 Points)\n",
    "  Now, let's say you have a much larger dataset with 1000 points and you want to check the same point, Point A.\n",
    "\n",
    "  Path Length: In this large dataset, Point A might take 8 splits on average to be isolated (since there are more points to go through).\n",
    "\n",
    "  Calculate c(n):\n",
    "  For a dataset of 1000 points, c(1000) will be around 14.5 (larger because there are more points).\n",
    "\n",
    "  Anomaly Score:\n",
    "  s(x,n) = 2^(-8/14.5) ≈ 2^(-0.55) ≈ 0.68\n",
    "\n",
    "  Why c(n) Matters:\n",
    "  Without c(n), scores would vary a lot based on the dataset size.\n",
    "  Here, Point A gets similar scores (around 0.63 and 0.68) in both datasets, thanks to c(n).\n",
    "  </details>\n",
    "\n",
    "### Interpreting the Anomaly Score:\n",
    "- Score close to 1: Likely an anomaly\n",
    "- Score close to 0: Likely a normal point"
   ]
  },
  {
   "cell_type": "markdown",
   "metadata": {},
   "source": [
    "--------------------------------------------------------------------------------"
   ]
  },
  {
   "cell_type": "markdown",
   "metadata": {},
   "source": [
    "# Installing Libraries"
   ]
  },
  {
   "cell_type": "code",
   "execution_count": 22,
   "metadata": {},
   "outputs": [],
   "source": [
    "# Basic Libraries\n",
    "import numpy as np\n",
    "import pandas as pd\n",
    "import seaborn as sns\n",
    "import matplotlib.pyplot as plt\n",
    "\n",
    "# ML Model Libraries\n",
    "from sklearn.model_selection import train_test_split\n",
    "from sklearn.preprocessing import StandardScaler\n",
    "from sklearn.linear_model import LogisticRegression\n",
    "from sklearn.tree import DecisionTreeClassifier\n",
    "from sklearn.naive_bayes import GaussianNB\n",
    "from sklearn.metrics import confusion_matrix, ConfusionMatrixDisplay, classification_report, accuracy_score, precision_score, recall_score,f1_score, roc_auc_score\n",
    "from sklearn.ensemble import IsolationForest\n",
    "\n",
    "# Warnings\n",
    "import warnings\n",
    "warnings.filterwarnings('ignore')\n",
    "\n",
    "# For GAN Implementation \n",
    "import torch\n",
    "import torch.nn as nn\n",
    "import torch.optim as optim\n",
    "import numpy as np"
   ]
  },
  {
   "cell_type": "markdown",
   "metadata": {},
   "source": [
    "# Intro to Data"
   ]
  },
  {
   "cell_type": "code",
   "execution_count": 23,
   "metadata": {},
   "outputs": [
    {
     "data": {
      "text/html": [
       "<div>\n",
       "<style scoped>\n",
       "    .dataframe tbody tr th:only-of-type {\n",
       "        vertical-align: middle;\n",
       "    }\n",
       "\n",
       "    .dataframe tbody tr th {\n",
       "        vertical-align: top;\n",
       "    }\n",
       "\n",
       "    .dataframe thead th {\n",
       "        text-align: right;\n",
       "    }\n",
       "</style>\n",
       "<table border=\"1\" class=\"dataframe\">\n",
       "  <thead>\n",
       "    <tr style=\"text-align: right;\">\n",
       "      <th></th>\n",
       "      <th>step</th>\n",
       "      <th>type</th>\n",
       "      <th>amount</th>\n",
       "      <th>nameOrig</th>\n",
       "      <th>oldbalanceOrg</th>\n",
       "      <th>newbalanceOrig</th>\n",
       "      <th>nameDest</th>\n",
       "      <th>oldbalanceDest</th>\n",
       "      <th>newbalanceDest</th>\n",
       "      <th>isFraud</th>\n",
       "      <th>isFlaggedFraud</th>\n",
       "    </tr>\n",
       "  </thead>\n",
       "  <tbody>\n",
       "    <tr>\n",
       "      <th>0</th>\n",
       "      <td>1</td>\n",
       "      <td>PAYMENT</td>\n",
       "      <td>9839.64</td>\n",
       "      <td>C1231006815</td>\n",
       "      <td>170136.0</td>\n",
       "      <td>160296.36</td>\n",
       "      <td>M1979787155</td>\n",
       "      <td>0.0</td>\n",
       "      <td>0.0</td>\n",
       "      <td>0</td>\n",
       "      <td>0</td>\n",
       "    </tr>\n",
       "    <tr>\n",
       "      <th>1</th>\n",
       "      <td>1</td>\n",
       "      <td>PAYMENT</td>\n",
       "      <td>1864.28</td>\n",
       "      <td>C1666544295</td>\n",
       "      <td>21249.0</td>\n",
       "      <td>19384.72</td>\n",
       "      <td>M2044282225</td>\n",
       "      <td>0.0</td>\n",
       "      <td>0.0</td>\n",
       "      <td>0</td>\n",
       "      <td>0</td>\n",
       "    </tr>\n",
       "    <tr>\n",
       "      <th>2</th>\n",
       "      <td>1</td>\n",
       "      <td>TRANSFER</td>\n",
       "      <td>181.00</td>\n",
       "      <td>C1305486145</td>\n",
       "      <td>181.0</td>\n",
       "      <td>0.00</td>\n",
       "      <td>C553264065</td>\n",
       "      <td>0.0</td>\n",
       "      <td>0.0</td>\n",
       "      <td>1</td>\n",
       "      <td>0</td>\n",
       "    </tr>\n",
       "    <tr>\n",
       "      <th>3</th>\n",
       "      <td>1</td>\n",
       "      <td>CASH_OUT</td>\n",
       "      <td>181.00</td>\n",
       "      <td>C840083671</td>\n",
       "      <td>181.0</td>\n",
       "      <td>0.00</td>\n",
       "      <td>C38997010</td>\n",
       "      <td>21182.0</td>\n",
       "      <td>0.0</td>\n",
       "      <td>1</td>\n",
       "      <td>0</td>\n",
       "    </tr>\n",
       "    <tr>\n",
       "      <th>4</th>\n",
       "      <td>1</td>\n",
       "      <td>PAYMENT</td>\n",
       "      <td>11668.14</td>\n",
       "      <td>C2048537720</td>\n",
       "      <td>41554.0</td>\n",
       "      <td>29885.86</td>\n",
       "      <td>M1230701703</td>\n",
       "      <td>0.0</td>\n",
       "      <td>0.0</td>\n",
       "      <td>0</td>\n",
       "      <td>0</td>\n",
       "    </tr>\n",
       "  </tbody>\n",
       "</table>\n",
       "</div>"
      ],
      "text/plain": [
       "   step      type    amount     nameOrig  oldbalanceOrg  newbalanceOrig  \\\n",
       "0     1   PAYMENT   9839.64  C1231006815       170136.0       160296.36   \n",
       "1     1   PAYMENT   1864.28  C1666544295        21249.0        19384.72   \n",
       "2     1  TRANSFER    181.00  C1305486145          181.0            0.00   \n",
       "3     1  CASH_OUT    181.00   C840083671          181.0            0.00   \n",
       "4     1   PAYMENT  11668.14  C2048537720        41554.0        29885.86   \n",
       "\n",
       "      nameDest  oldbalanceDest  newbalanceDest  isFraud  isFlaggedFraud  \n",
       "0  M1979787155             0.0             0.0        0               0  \n",
       "1  M2044282225             0.0             0.0        0               0  \n",
       "2   C553264065             0.0             0.0        1               0  \n",
       "3    C38997010         21182.0             0.0        1               0  \n",
       "4  M1230701703             0.0             0.0        0               0  "
      ]
     },
     "execution_count": 23,
     "metadata": {},
     "output_type": "execute_result"
    }
   ],
   "source": [
    "df = pd.read_csv('P:\\Project\\Machine Learning Projects\\Anomaly_Detection_using_Isolation_Forest_with_AWS\\Data_Set\\Data_Set.csv')\n",
    "df.head()"
   ]
  },
  {
   "cell_type": "code",
   "execution_count": 24,
   "metadata": {},
   "outputs": [
    {
     "name": "stdout",
     "output_type": "stream",
     "text": [
      "Number of rows and columns: (6362620, 11)\n"
     ]
    }
   ],
   "source": [
    "print(\"Number of rows and columns:\", df.shape)\n"
   ]
  },
  {
   "cell_type": "code",
   "execution_count": 25,
   "metadata": {},
   "outputs": [
    {
     "data": {
      "text/html": [
       "<div>\n",
       "<style scoped>\n",
       "    .dataframe tbody tr th:only-of-type {\n",
       "        vertical-align: middle;\n",
       "    }\n",
       "\n",
       "    .dataframe tbody tr th {\n",
       "        vertical-align: top;\n",
       "    }\n",
       "\n",
       "    .dataframe thead th {\n",
       "        text-align: right;\n",
       "    }\n",
       "</style>\n",
       "<table border=\"1\" class=\"dataframe\">\n",
       "  <thead>\n",
       "    <tr style=\"text-align: right;\">\n",
       "      <th></th>\n",
       "      <th>count</th>\n",
       "      <th>mean</th>\n",
       "      <th>std</th>\n",
       "      <th>min</th>\n",
       "      <th>25%</th>\n",
       "      <th>50%</th>\n",
       "      <th>75%</th>\n",
       "      <th>max</th>\n",
       "    </tr>\n",
       "  </thead>\n",
       "  <tbody>\n",
       "    <tr>\n",
       "      <th>step</th>\n",
       "      <td>6362620.0</td>\n",
       "      <td>2.433972e+02</td>\n",
       "      <td>1.423320e+02</td>\n",
       "      <td>1.0</td>\n",
       "      <td>156.00</td>\n",
       "      <td>239.000</td>\n",
       "      <td>3.350000e+02</td>\n",
       "      <td>7.430000e+02</td>\n",
       "    </tr>\n",
       "    <tr>\n",
       "      <th>amount</th>\n",
       "      <td>6362620.0</td>\n",
       "      <td>1.798619e+05</td>\n",
       "      <td>6.038582e+05</td>\n",
       "      <td>0.0</td>\n",
       "      <td>13389.57</td>\n",
       "      <td>74871.940</td>\n",
       "      <td>2.087215e+05</td>\n",
       "      <td>9.244552e+07</td>\n",
       "    </tr>\n",
       "    <tr>\n",
       "      <th>oldbalanceOrg</th>\n",
       "      <td>6362620.0</td>\n",
       "      <td>8.338831e+05</td>\n",
       "      <td>2.888243e+06</td>\n",
       "      <td>0.0</td>\n",
       "      <td>0.00</td>\n",
       "      <td>14208.000</td>\n",
       "      <td>1.073152e+05</td>\n",
       "      <td>5.958504e+07</td>\n",
       "    </tr>\n",
       "    <tr>\n",
       "      <th>newbalanceOrig</th>\n",
       "      <td>6362620.0</td>\n",
       "      <td>8.551137e+05</td>\n",
       "      <td>2.924049e+06</td>\n",
       "      <td>0.0</td>\n",
       "      <td>0.00</td>\n",
       "      <td>0.000</td>\n",
       "      <td>1.442584e+05</td>\n",
       "      <td>4.958504e+07</td>\n",
       "    </tr>\n",
       "    <tr>\n",
       "      <th>oldbalanceDest</th>\n",
       "      <td>6362620.0</td>\n",
       "      <td>1.100702e+06</td>\n",
       "      <td>3.399180e+06</td>\n",
       "      <td>0.0</td>\n",
       "      <td>0.00</td>\n",
       "      <td>132705.665</td>\n",
       "      <td>9.430367e+05</td>\n",
       "      <td>3.560159e+08</td>\n",
       "    </tr>\n",
       "    <tr>\n",
       "      <th>newbalanceDest</th>\n",
       "      <td>6362620.0</td>\n",
       "      <td>1.224996e+06</td>\n",
       "      <td>3.674129e+06</td>\n",
       "      <td>0.0</td>\n",
       "      <td>0.00</td>\n",
       "      <td>214661.440</td>\n",
       "      <td>1.111909e+06</td>\n",
       "      <td>3.561793e+08</td>\n",
       "    </tr>\n",
       "    <tr>\n",
       "      <th>isFraud</th>\n",
       "      <td>6362620.0</td>\n",
       "      <td>1.290820e-03</td>\n",
       "      <td>3.590480e-02</td>\n",
       "      <td>0.0</td>\n",
       "      <td>0.00</td>\n",
       "      <td>0.000</td>\n",
       "      <td>0.000000e+00</td>\n",
       "      <td>1.000000e+00</td>\n",
       "    </tr>\n",
       "    <tr>\n",
       "      <th>isFlaggedFraud</th>\n",
       "      <td>6362620.0</td>\n",
       "      <td>2.514687e-06</td>\n",
       "      <td>1.585775e-03</td>\n",
       "      <td>0.0</td>\n",
       "      <td>0.00</td>\n",
       "      <td>0.000</td>\n",
       "      <td>0.000000e+00</td>\n",
       "      <td>1.000000e+00</td>\n",
       "    </tr>\n",
       "  </tbody>\n",
       "</table>\n",
       "</div>"
      ],
      "text/plain": [
       "                    count          mean           std  min       25%  \\\n",
       "step            6362620.0  2.433972e+02  1.423320e+02  1.0    156.00   \n",
       "amount          6362620.0  1.798619e+05  6.038582e+05  0.0  13389.57   \n",
       "oldbalanceOrg   6362620.0  8.338831e+05  2.888243e+06  0.0      0.00   \n",
       "newbalanceOrig  6362620.0  8.551137e+05  2.924049e+06  0.0      0.00   \n",
       "oldbalanceDest  6362620.0  1.100702e+06  3.399180e+06  0.0      0.00   \n",
       "newbalanceDest  6362620.0  1.224996e+06  3.674129e+06  0.0      0.00   \n",
       "isFraud         6362620.0  1.290820e-03  3.590480e-02  0.0      0.00   \n",
       "isFlaggedFraud  6362620.0  2.514687e-06  1.585775e-03  0.0      0.00   \n",
       "\n",
       "                       50%           75%           max  \n",
       "step               239.000  3.350000e+02  7.430000e+02  \n",
       "amount           74871.940  2.087215e+05  9.244552e+07  \n",
       "oldbalanceOrg    14208.000  1.073152e+05  5.958504e+07  \n",
       "newbalanceOrig       0.000  1.442584e+05  4.958504e+07  \n",
       "oldbalanceDest  132705.665  9.430367e+05  3.560159e+08  \n",
       "newbalanceDest  214661.440  1.111909e+06  3.561793e+08  \n",
       "isFraud              0.000  0.000000e+00  1.000000e+00  \n",
       "isFlaggedFraud       0.000  0.000000e+00  1.000000e+00  "
      ]
     },
     "execution_count": 25,
     "metadata": {},
     "output_type": "execute_result"
    }
   ],
   "source": [
    "#describing the data\n",
    "df.describe().T"
   ]
  },
  {
   "cell_type": "code",
   "execution_count": 26,
   "metadata": {},
   "outputs": [
    {
     "data": {
      "text/plain": [
       "step                int64\n",
       "type               object\n",
       "amount            float64\n",
       "nameOrig           object\n",
       "oldbalanceOrg     float64\n",
       "newbalanceOrig    float64\n",
       "nameDest           object\n",
       "oldbalanceDest    float64\n",
       "newbalanceDest    float64\n",
       "isFraud             int64\n",
       "isFlaggedFraud      int64\n",
       "dtype: object"
      ]
     },
     "execution_count": 26,
     "metadata": {},
     "output_type": "execute_result"
    }
   ],
   "source": [
    "df.dtypes"
   ]
  },
  {
   "cell_type": "markdown",
   "metadata": {},
   "source": [
    "# Handling the NULL Values"
   ]
  },
  {
   "cell_type": "code",
   "execution_count": 27,
   "metadata": {},
   "outputs": [
    {
     "name": "stdout",
     "output_type": "stream",
     "text": [
      "GREAT, There is no missing values in this dataset\n"
     ]
    }
   ],
   "source": [
    "if df.isnull().values.any():\n",
    "    print('There are some missing values in this dataset\\n')\n",
    "    df.dropna(inplace=True)\n",
    "    print('Shape : ', df.shape) \n",
    "else:\n",
    "    print('GREAT, There is no missing values in this dataset')"
   ]
  },
  {
   "cell_type": "markdown",
   "metadata": {},
   "source": [
    "# EDA of categories of the \"type\" feature\n"
   ]
  },
  {
   "cell_type": "markdown",
   "metadata": {},
   "source": [
    "The feature 'type' contains the classes which is essential for the model to classify the data into the right class. So Label Encoding is applied on 'type' feature"
   ]
  },
  {
   "cell_type": "code",
   "execution_count": 28,
   "metadata": {},
   "outputs": [
    {
     "name": "stdout",
     "output_type": "stream",
     "text": [
      "Labels in feature type :-  ['PAYMENT' 'TRANSFER' 'CASH_OUT' 'DEBIT' 'CASH_IN']\n"
     ]
    }
   ],
   "source": [
    "print(\"Labels in feature type :- \",df['type'].unique())\n"
   ]
  },
  {
   "cell_type": "code",
   "execution_count": 29,
   "metadata": {},
   "outputs": [
    {
     "name": "stdout",
     "output_type": "stream",
     "text": [
      "The counts of each category :-  type\n",
      "CASH_OUT    2237500\n",
      "PAYMENT     2151495\n",
      "CASH_IN     1399284\n",
      "TRANSFER     532909\n",
      "DEBIT         41432\n",
      "Name: count, dtype: int64\n"
     ]
    },
    {
     "data": {
      "image/png": "[encoded data removed]",
      "text/plain": [
       "<Figure size 1000x1000 with 1 Axes>"
      ]
     },
     "metadata": {},
     "output_type": "display_data"
    }
   ],
   "source": [
    "print(\"The counts of each category :- \",df['type'].value_counts())\n",
    "plt.figure(figsize=(10,10))\n",
    "plt.title('type vs counts')\n",
    "sns.countplot(data=df, x='type', color='skyblue')\n",
    "plt.xlabel('Type')\n",
    "plt.ylabel('Counts')\n",
    "plt.grid(axis='y', alpha=1)\n",
    "plt.show()"
   ]
  },
  {
   "cell_type": "markdown",
   "metadata": {},
   "source": [
    "<h2>Label Encoding</h2>"
   ]
  },
  {
   "cell_type": "code",
   "execution_count": 30,
   "metadata": {},
   "outputs": [
    {
     "data": {
      "text/plain": [
       "type\n",
       "0    2237500\n",
       "1    2151495\n",
       "2    1399284\n",
       "3     532909\n",
       "4      41432\n",
       "Name: count, dtype: int64"
      ]
     },
     "execution_count": 30,
     "metadata": {},
     "output_type": "execute_result"
    }
   ],
   "source": [
    "df['type'].replace({'CASH_OUT':0, 'PAYMENT':1, 'CASH_IN':2, 'TRANSFER':3, 'DEBIT':4}, inplace=True)\n",
    "df['type'].value_counts()"
   ]
  },
  {
   "cell_type": "code",
   "execution_count": 31,
   "metadata": {},
   "outputs": [
    {
     "data": {
      "text/html": [
       "<div>\n",
       "<style scoped>\n",
       "    .dataframe tbody tr th:only-of-type {\n",
       "        vertical-align: middle;\n",
       "    }\n",
       "\n",
       "    .dataframe tbody tr th {\n",
       "        vertical-align: top;\n",
       "    }\n",
       "\n",
       "    .dataframe thead th {\n",
       "        text-align: right;\n",
       "    }\n",
       "</style>\n",
       "<table border=\"1\" class=\"dataframe\">\n",
       "  <thead>\n",
       "    <tr style=\"text-align: right;\">\n",
       "      <th></th>\n",
       "      <th>step</th>\n",
       "      <th>type</th>\n",
       "      <th>amount</th>\n",
       "      <th>nameOrig</th>\n",
       "      <th>oldbalanceOrg</th>\n",
       "      <th>newbalanceOrig</th>\n",
       "      <th>nameDest</th>\n",
       "      <th>oldbalanceDest</th>\n",
       "      <th>newbalanceDest</th>\n",
       "      <th>isFraud</th>\n",
       "      <th>isFlaggedFraud</th>\n",
       "    </tr>\n",
       "  </thead>\n",
       "  <tbody>\n",
       "    <tr>\n",
       "      <th>0</th>\n",
       "      <td>1</td>\n",
       "      <td>1</td>\n",
       "      <td>9839.64</td>\n",
       "      <td>C1231006815</td>\n",
       "      <td>170136.0</td>\n",
       "      <td>160296.36</td>\n",
       "      <td>M1979787155</td>\n",
       "      <td>0.0</td>\n",
       "      <td>0.0</td>\n",
       "      <td>0</td>\n",
       "      <td>0</td>\n",
       "    </tr>\n",
       "    <tr>\n",
       "      <th>1</th>\n",
       "      <td>1</td>\n",
       "      <td>1</td>\n",
       "      <td>1864.28</td>\n",
       "      <td>C1666544295</td>\n",
       "      <td>21249.0</td>\n",
       "      <td>19384.72</td>\n",
       "      <td>M2044282225</td>\n",
       "      <td>0.0</td>\n",
       "      <td>0.0</td>\n",
       "      <td>0</td>\n",
       "      <td>0</td>\n",
       "    </tr>\n",
       "    <tr>\n",
       "      <th>2</th>\n",
       "      <td>1</td>\n",
       "      <td>3</td>\n",
       "      <td>181.00</td>\n",
       "      <td>C1305486145</td>\n",
       "      <td>181.0</td>\n",
       "      <td>0.00</td>\n",
       "      <td>C553264065</td>\n",
       "      <td>0.0</td>\n",
       "      <td>0.0</td>\n",
       "      <td>1</td>\n",
       "      <td>0</td>\n",
       "    </tr>\n",
       "    <tr>\n",
       "      <th>3</th>\n",
       "      <td>1</td>\n",
       "      <td>0</td>\n",
       "      <td>181.00</td>\n",
       "      <td>C840083671</td>\n",
       "      <td>181.0</td>\n",
       "      <td>0.00</td>\n",
       "      <td>C38997010</td>\n",
       "      <td>21182.0</td>\n",
       "      <td>0.0</td>\n",
       "      <td>1</td>\n",
       "      <td>0</td>\n",
       "    </tr>\n",
       "    <tr>\n",
       "      <th>4</th>\n",
       "      <td>1</td>\n",
       "      <td>1</td>\n",
       "      <td>11668.14</td>\n",
       "      <td>C2048537720</td>\n",
       "      <td>41554.0</td>\n",
       "      <td>29885.86</td>\n",
       "      <td>M1230701703</td>\n",
       "      <td>0.0</td>\n",
       "      <td>0.0</td>\n",
       "      <td>0</td>\n",
       "      <td>0</td>\n",
       "    </tr>\n",
       "  </tbody>\n",
       "</table>\n",
       "</div>"
      ],
      "text/plain": [
       "   step  type    amount     nameOrig  oldbalanceOrg  newbalanceOrig  \\\n",
       "0     1     1   9839.64  C1231006815       170136.0       160296.36   \n",
       "1     1     1   1864.28  C1666544295        21249.0        19384.72   \n",
       "2     1     3    181.00  C1305486145          181.0            0.00   \n",
       "3     1     0    181.00   C840083671          181.0            0.00   \n",
       "4     1     1  11668.14  C2048537720        41554.0        29885.86   \n",
       "\n",
       "      nameDest  oldbalanceDest  newbalanceDest  isFraud  isFlaggedFraud  \n",
       "0  M1979787155             0.0             0.0        0               0  \n",
       "1  M2044282225             0.0             0.0        0               0  \n",
       "2   C553264065             0.0             0.0        1               0  \n",
       "3    C38997010         21182.0             0.0        1               0  \n",
       "4  M1230701703             0.0             0.0        0               0  "
      ]
     },
     "execution_count": 31,
     "metadata": {},
     "output_type": "execute_result"
    }
   ],
   "source": [
    "df.head(5)"
   ]
  },
  {
   "cell_type": "markdown",
   "metadata": {},
   "source": [
    "# Drop unnecessary columns"
   ]
  },
  {
   "cell_type": "markdown",
   "metadata": {},
   "source": [
    "The column mentioned below were dropped as these features don't add any information during the training phase of the model "
   ]
  },
  {
   "cell_type": "code",
   "execution_count": 32,
   "metadata": {},
   "outputs": [
    {
     "data": {
      "text/plain": [
       "Index(['step', 'type', 'amount', 'oldbalanceOrg', 'newbalanceOrig',\n",
       "       'oldbalanceDest', 'newbalanceDest', 'isFraud', 'isFlaggedFraud'],\n",
       "      dtype='object')"
      ]
     },
     "execution_count": 32,
     "metadata": {},
     "output_type": "execute_result"
    }
   ],
   "source": [
    "df.drop(['nameOrig', 'nameDest'], axis=1, inplace=True)\n",
    "df.columns"
   ]
  },
  {
   "cell_type": "markdown",
   "metadata": {},
   "source": [
    "# EDA of categories of the \"isFraud\" feature"
   ]
  },
  {
   "cell_type": "code",
   "execution_count": 33,
   "metadata": {},
   "outputs": [
    {
     "name": "stdout",
     "output_type": "stream",
     "text": [
      "The class in 'isFraud' feature :-  [0 1]\n"
     ]
    }
   ],
   "source": [
    "print(\"The class in 'isFraud' feature :- \",df['isFraud'].unique())"
   ]
  },
  {
   "cell_type": "code",
   "execution_count": 34,
   "metadata": {},
   "outputs": [
    {
     "data": {
      "text/plain": [
       "isFraud\n",
       "0    6354407\n",
       "1       8213\n",
       "Name: count, dtype: int64"
      ]
     },
     "execution_count": 34,
     "metadata": {},
     "output_type": "execute_result"
    }
   ],
   "source": [
    "df['isFraud'].value_counts()"
   ]
  },
  {
   "cell_type": "markdown",
   "metadata": {},
   "source": [
    "From the above summary we can see that the data is highly imbalanced. Where 0 repsresents a normal transaction and 1 represents an anomaly."
   ]
  },
  {
   "cell_type": "markdown",
   "metadata": {},
   "source": [
    "# Standardization"
   ]
  },
  {
   "cell_type": "code",
   "execution_count": 35,
   "metadata": {},
   "outputs": [
    {
     "name": "stdout",
     "output_type": "stream",
     "text": [
      "   step  type    amount  oldbalanceOrg  newbalanceOrig  oldbalanceDest  \\\n",
      "0     1     1 -0.281560      -0.229810       160296.36             0.0   \n",
      "1     1     1 -0.294767      -0.281359        19384.72             0.0   \n",
      "2     1     3 -0.297555      -0.288654            0.00             0.0   \n",
      "3     1     0 -0.297555      -0.288654            0.00         21182.0   \n",
      "4     1     1 -0.278532      -0.274329        29885.86             0.0   \n",
      "\n",
      "   newbalanceDest  isFraud  isFlaggedFraud  \n",
      "0       -0.333411        0               0  \n",
      "1       -0.333411        0               0  \n",
      "2       -0.333411        1               0  \n",
      "3       -0.333411        1               0  \n",
      "4       -0.333411        0               0  \n"
     ]
    }
   ],
   "source": [
    "scaling_columns = ['amount', 'oldbalanceOrg', 'newbalanceDest']\n",
    "\n",
    "# Standardizing the numerical columns for consistent scaling\n",
    "scaler = StandardScaler()\n",
    "df[scaling_columns] = scaler.fit_transform(df[scaling_columns])\n",
    "\n",
    "# Check the transformed data\n",
    "print(df.head())\n"
   ]
  },
  {
   "cell_type": "markdown",
   "metadata": {},
   "source": [
    "# GAN implementation for Class Immbalance"
   ]
  },
  {
   "cell_type": "markdown",
   "metadata": {},
   "source": [
    "What is a GAN?\n",
    "A Generative Adversarial Network (GAN) consists of two neural networks:\n",
    "\n",
    "    Generator: Creates fake (synthetic) data that resembles the real data.\n",
    "    Discriminator: Tries to distinguish between real data (from the dataset) and fake data (from the generator).\n",
    "\n",
    "They compete in a \"game\" where:\n",
    "\n",
    "    The Generator improves at creating realistic data.\n",
    "    The Discriminator gets better at identifying fake data.\n",
    "\n",
    "Over time, the generator learns to produce data indistinguishable from the real dataset.\n",
    "\n",
    "Leaky ReLU is a powerful activation function that improves upon the traditional ReLU by allowing small negative values to pass through. \n",
    "\n",
    "Optimizer is like a smart coach that helps neural networks learn better by adjusting their parameters (weights and biases) to minimize errors during training.\n",
    "\n",
    "Adam optimizer is a popular and efficient type of optimizer that:\n",
    "\n",
    "    Adapts the learning rate automatically for each parameter\n",
    "    Combines the best aspects of two other optimization methods (RMSprop and Momentum)\n",
    "    Works well for most deep learning tasks without requiring much tuning"
   ]
  },
  {
   "cell_type": "code",
   "execution_count": 36,
   "metadata": {},
   "outputs": [],
   "source": [
    "# Define the Generator class\n",
    "class Generator(nn.Module):\n",
    "    def __init__(self, input_dim, output_dim):\n",
    "        super(Generator, self).__init__()\n",
    "        self.model = nn.Sequential(\n",
    "            nn.Linear(input_dim, 128),  # First layer\n",
    "            nn.LeakyReLU(0.2),  # Activation function\n",
    "            nn.Linear(128, 256),  # Second layer\n",
    "            nn.LeakyReLU(0.2),\n",
    "            nn.Linear(256, output_dim),  # Output layer\n",
    "            nn.Tanh()  # Ensures the generated output is in the range [-1, 1]\n",
    "        )\n",
    "\n",
    "    def forward(self, z):\n",
    "        return self.model(z)\n",
    "\n",
    "# Define the Discriminator class\n",
    "class Discriminator(nn.Module):\n",
    "    def __init__(self, input_dim):\n",
    "        super(Discriminator, self).__init__()\n",
    "        self.model = nn.Sequential(\n",
    "            nn.Linear(input_dim, 256),  # Input layer\n",
    "            nn.LeakyReLU(0.2),  # Activation function\n",
    "            nn.Dropout(0.3),  # Regularization to prevent overfitting\n",
    "            nn.Linear(256, 128),  # Hidden layer\n",
    "            nn.LeakyReLU(0.2),\n",
    "            nn.Linear(128, 1),  # Output layer\n",
    "            nn.Sigmoid()  # Ensures the output is between 0 and 1 for binary classification\n",
    "        )\n",
    "\n",
    "    def forward(self, x):\n",
    "        return self.model(x)"
   ]
  },
  {
   "cell_type": "code",
   "execution_count": 37,
   "metadata": {},
   "outputs": [],
   "source": [
    "# Hyperparameters\n",
    "latent_dim = 100  # Size of the random noise input for the generator\n",
    "input_dim = df.shape[1]  # The number of features in the data\n",
    "\n",
    "# Initialize the generator and discriminator\n",
    "generator = Generator(latent_dim, input_dim)\n",
    "discriminator = Discriminator(input_dim)\n",
    "\n",
    "# Loss function and optimizers\n",
    "adversarial_loss = nn.BCELoss()  # Binary Cross-Entropy loss\n",
    "optimizer_G = optim.Adam(generator.parameters(), lr=0.0002, betas=(0.5, 0.999))  # Adam optimizer for generator\n",
    "optimizer_D = optim.Adam(discriminator.parameters(), lr=0.0002, betas=(0.5, 0.999))  # Adam optimizer for discriminator\n"
   ]
  },
  {
   "cell_type": "markdown",
   "metadata": {},
   "source": [
    "<details>\n",
    "<summary>GAN Training Process Overview</summary>\n",
    "\n",
    "\n",
    "# GAN Training Process Overview\n",
    "\n",
    "\n",
    "\n",
    "\n",
    "\n",
    "## Introduction\n",
    "This code implements a Generative Adversarial Network (GAN) training process.\n",
    "\n",
    "\n",
    "\n",
    "\n",
    "\n",
    "\n",
    "## Model Setup\n",
    "- Uses Binary Cross-Entropy loss (BCELoss) for measuring how well the model is performing\n",
    "- Creates two optimizers using Adam algorithm - one for the Generator and one for the Discriminator\n",
    "- Learning rate is set to 0.0002 with specific beta parameters for stability\n",
    "\n",
    "\n",
    "\n",
    "\n",
    "\n",
    "## Training Process\n",
    "### The train_gan function:\n",
    "- Takes number of epochs and batch size as inputs\n",
    "- Runs in a loop for the specified number of epochs\n",
    "\n",
    "\n",
    "### In each epoch:\n",
    "#### Discriminator Training:\n",
    "- Gets real data samples from dataset\n",
    "- Creates fake data using the Generator\n",
    "- Trains to correctly identify real data as 1 and fake data as 0\n",
    "- Updates Discriminator weights based on its performance\n",
    "\n",
    "\n",
    "\n",
    "\n",
    "#### Generator Training:\n",
    "- Creates fake data\n",
    "- Tries to fool the Discriminator by making fake data look real\n",
    "- Updates Generator weights based on how well it fooled the Discriminator\n",
    "\n",
    "\n",
    "\n",
    "## Monitoring\n",
    "### Progress Tracking:\n",
    "- Every 10 epochs, prints out the losses for both Generator and Discriminator\n",
    "\n",
    "## Analogy\n",
    "Think of it like a game where:\n",
    "- Generator is an art forger trying to create fake paintings\n",
    "- Discriminator is an art expert trying to spot the fakes\n",
    "- They keep getting better at their jobs by competing with each other\n",
    "\n",
    "\n",
    "\n",
    "\n",
    "## Outcome\n",
    "This process helps create a model that can generate realistic-looking synthetic data similar to your original dataset.\n",
    "</details>"
   ]
  },
  {
   "cell_type": "code",
   "execution_count": 38,
   "metadata": {},
   "outputs": [],
   "source": [
    "# Function to train the GAN\n",
    "def train_gan(epochs, batch_size):\n",
    "    for epoch in range(epochs):\n",
    "        # Train the Discriminator\n",
    "        optimizer_D.zero_grad()\n",
    "\n",
    "        # Real data\n",
    "        real_data = torch.tensor(df.values[np.random.randint(0, df.shape[0], batch_size)], dtype=torch.float)\n",
    "        real_labels = torch.ones(batch_size, 1)  # Labels for real data (1)\n",
    "\n",
    "        # Fake data\n",
    "        noise = torch.randn(batch_size, latent_dim)\n",
    "        fake_data = generator(noise)  # Generate fake data using the generator\n",
    "        fake_labels = torch.zeros(batch_size, 1)  # Labels for fake data (0)\n",
    "\n",
    "        # Calculate discriminator loss on real and fake data\n",
    "        real_loss = adversarial_loss(discriminator(real_data), real_labels)\n",
    "        fake_loss = adversarial_loss(discriminator(fake_data.detach()), fake_labels)\n",
    "        d_loss = (real_loss + fake_loss) / 2\n",
    "\n",
    "        # Backpropagation for discriminator\n",
    "        d_loss.backward()\n",
    "        optimizer_D.step()\n",
    "\n",
    "        # Train the Generator\n",
    "        optimizer_G.zero_grad()\n",
    "\n",
    "        # Generate new fake data and try to fool the discriminator\n",
    "        g_loss = adversarial_loss(discriminator(fake_data), real_labels)  # The generator tries to make fake data look real\n",
    "\n",
    "        # Backpropagation for generator\n",
    "        g_loss.backward()\n",
    "        optimizer_G.step()\n",
    "\n",
    "        # Print progress every 10 epochs\n",
    "        if epoch % 10 == 0:\n",
    "            print(f'Epoch {epoch}, Discriminator Loss: {d_loss.item()}, Generator Loss: {g_loss.item()}')\n"
   ]
  },
  {
   "cell_type": "code",
   "execution_count": 39,
   "metadata": {},
   "outputs": [
    {
     "name": "stdout",
     "output_type": "stream",
     "text": [
      "Epoch 0, Discriminator Loss: 4.267470359802246, Generator Loss: 0.6759767532348633\n",
      "Epoch 10, Discriminator Loss: 11.277383804321289, Generator Loss: 0.7342461347579956\n",
      "Epoch 20, Discriminator Loss: 0.33068591356277466, Generator Loss: 0.7354987859725952\n",
      "Epoch 30, Discriminator Loss: 1.1124582290649414, Generator Loss: 0.7308391332626343\n",
      "Epoch 40, Discriminator Loss: 1.8910764455795288, Generator Loss: 0.7386904954910278\n",
      "Epoch 50, Discriminator Loss: 0.32671216130256653, Generator Loss: 0.7360121607780457\n",
      "Epoch 60, Discriminator Loss: 0.32628709077835083, Generator Loss: 0.7439643144607544\n",
      "Epoch 70, Discriminator Loss: 0.3267744481563568, Generator Loss: 0.7508383989334106\n",
      "Epoch 80, Discriminator Loss: 0.3442869484424591, Generator Loss: 0.6975757479667664\n",
      "Epoch 90, Discriminator Loss: 0.38718676567077637, Generator Loss: 0.6828196048736572\n",
      "Epoch 100, Discriminator Loss: 0.35975009202957153, Generator Loss: 0.6718767881393433\n",
      "Epoch 110, Discriminator Loss: 0.354869544506073, Generator Loss: 0.6876015663146973\n",
      "Epoch 120, Discriminator Loss: 0.3434876799583435, Generator Loss: 0.7057520151138306\n",
      "Epoch 130, Discriminator Loss: 0.34049564599990845, Generator Loss: 0.7050243616104126\n",
      "Epoch 140, Discriminator Loss: 0.3376533091068268, Generator Loss: 0.7142753601074219\n",
      "Epoch 150, Discriminator Loss: 0.34590938687324524, Generator Loss: 0.7149105072021484\n",
      "Epoch 160, Discriminator Loss: 0.3393062949180603, Generator Loss: 0.7222757339477539\n",
      "Epoch 170, Discriminator Loss: 0.3374357223510742, Generator Loss: 0.7241445779800415\n",
      "Epoch 180, Discriminator Loss: 0.3257656395435333, Generator Loss: 0.748000979423523\n",
      "Epoch 190, Discriminator Loss: 0.32654091715812683, Generator Loss: 0.7476880550384521\n",
      "Epoch 200, Discriminator Loss: 0.3224518299102783, Generator Loss: 0.7492064237594604\n",
      "Epoch 210, Discriminator Loss: 0.3080814480781555, Generator Loss: 0.7855451107025146\n",
      "Epoch 220, Discriminator Loss: 0.30155423283576965, Generator Loss: 0.8128722906112671\n",
      "Epoch 230, Discriminator Loss: 0.28716298937797546, Generator Loss: 0.8443350195884705\n",
      "Epoch 240, Discriminator Loss: 0.280582070350647, Generator Loss: 0.8719205260276794\n",
      "Epoch 250, Discriminator Loss: 0.285307914018631, Generator Loss: 0.8409888744354248\n",
      "Epoch 260, Discriminator Loss: 0.28520748019218445, Generator Loss: 0.8444864749908447\n",
      "Epoch 270, Discriminator Loss: 0.2783435583114624, Generator Loss: 0.8612059354782104\n",
      "Epoch 280, Discriminator Loss: 0.28972822427749634, Generator Loss: 0.8291689157485962\n",
      "Epoch 290, Discriminator Loss: 0.3083805739879608, Generator Loss: 0.8105396628379822\n",
      "Epoch 300, Discriminator Loss: 0.30277541279792786, Generator Loss: 0.820644736289978\n",
      "Epoch 310, Discriminator Loss: 0.2817726731300354, Generator Loss: 0.8519076108932495\n",
      "Epoch 320, Discriminator Loss: 0.29419007897377014, Generator Loss: 0.8483119010925293\n",
      "Epoch 330, Discriminator Loss: 0.2798728346824646, Generator Loss: 0.8870741128921509\n",
      "Epoch 340, Discriminator Loss: 0.26814690232276917, Generator Loss: 0.9199938774108887\n",
      "Epoch 350, Discriminator Loss: 0.24871820211410522, Generator Loss: 0.9530913829803467\n",
      "Epoch 360, Discriminator Loss: 0.24895313382148743, Generator Loss: 0.9751787185668945\n",
      "Epoch 370, Discriminator Loss: 0.250901997089386, Generator Loss: 0.9749332070350647\n",
      "Epoch 380, Discriminator Loss: 0.23695674538612366, Generator Loss: 0.9800283908843994\n",
      "Epoch 390, Discriminator Loss: 0.23832890391349792, Generator Loss: 0.9721999764442444\n",
      "Epoch 400, Discriminator Loss: 0.24131497740745544, Generator Loss: 0.9711585640907288\n",
      "Epoch 410, Discriminator Loss: 0.23365284502506256, Generator Loss: 1.0066183805465698\n",
      "Epoch 420, Discriminator Loss: 0.22556652128696442, Generator Loss: 1.0479276180267334\n",
      "Epoch 430, Discriminator Loss: 0.2176213562488556, Generator Loss: 1.0799566507339478\n",
      "Epoch 440, Discriminator Loss: 0.2212098389863968, Generator Loss: 1.09275221824646\n",
      "Epoch 450, Discriminator Loss: 0.23187923431396484, Generator Loss: 1.0224262475967407\n",
      "Epoch 460, Discriminator Loss: 0.22881467640399933, Generator Loss: 1.0248571634292603\n",
      "Epoch 470, Discriminator Loss: 0.22792525589466095, Generator Loss: 1.0368075370788574\n",
      "Epoch 480, Discriminator Loss: 0.2153053730726242, Generator Loss: 1.0664918422698975\n",
      "Epoch 490, Discriminator Loss: 0.23974458873271942, Generator Loss: 0.9964730739593506\n",
      "Epoch 500, Discriminator Loss: 0.22763057053089142, Generator Loss: 1.0399501323699951\n",
      "Epoch 510, Discriminator Loss: 0.21980096399784088, Generator Loss: 1.0689882040023804\n",
      "Epoch 520, Discriminator Loss: 0.20904521644115448, Generator Loss: 1.114205241203308\n",
      "Epoch 530, Discriminator Loss: 0.1934356987476349, Generator Loss: 1.1486114263534546\n",
      "Epoch 540, Discriminator Loss: 0.1875738501548767, Generator Loss: 1.1787512302398682\n",
      "Epoch 550, Discriminator Loss: 0.20192734897136688, Generator Loss: 1.1016749143600464\n",
      "Epoch 560, Discriminator Loss: 0.21245895326137543, Generator Loss: 1.0842905044555664\n",
      "Epoch 570, Discriminator Loss: 0.22518515586853027, Generator Loss: 1.0921382904052734\n",
      "Epoch 580, Discriminator Loss: 0.21294085681438446, Generator Loss: 1.0792964696884155\n",
      "Epoch 590, Discriminator Loss: 0.21249733865261078, Generator Loss: 1.112804651260376\n",
      "Epoch 600, Discriminator Loss: 0.19638781249523163, Generator Loss: 1.171196699142456\n",
      "Epoch 610, Discriminator Loss: 0.1843673437833786, Generator Loss: 1.1829508543014526\n",
      "Epoch 620, Discriminator Loss: 0.1914941668510437, Generator Loss: 1.1921745538711548\n",
      "Epoch 630, Discriminator Loss: 0.19019043445587158, Generator Loss: 1.2108126878738403\n",
      "Epoch 640, Discriminator Loss: 0.17868264019489288, Generator Loss: 1.2390258312225342\n",
      "Epoch 650, Discriminator Loss: 0.1692066639661789, Generator Loss: 1.2376900911331177\n",
      "Epoch 660, Discriminator Loss: 0.1687190979719162, Generator Loss: 1.2623789310455322\n",
      "Epoch 670, Discriminator Loss: 0.1638023406267166, Generator Loss: 1.2919385433197021\n",
      "Epoch 680, Discriminator Loss: 0.15762606263160706, Generator Loss: 1.308276891708374\n",
      "Epoch 690, Discriminator Loss: 0.15821678936481476, Generator Loss: 1.3165571689605713\n",
      "Epoch 700, Discriminator Loss: 0.15815797448158264, Generator Loss: 1.3587995767593384\n",
      "Epoch 710, Discriminator Loss: 0.15139737725257874, Generator Loss: 1.401656150817871\n",
      "Epoch 720, Discriminator Loss: 0.9252899289131165, Generator Loss: 1.4134504795074463\n",
      "Epoch 730, Discriminator Loss: 0.1462121456861496, Generator Loss: 1.4375221729278564\n",
      "Epoch 740, Discriminator Loss: 0.14988648891448975, Generator Loss: 1.471596121788025\n",
      "Epoch 750, Discriminator Loss: 0.13109657168388367, Generator Loss: 1.472654104232788\n",
      "Epoch 760, Discriminator Loss: 0.13700111210346222, Generator Loss: 1.4434672594070435\n",
      "Epoch 770, Discriminator Loss: 0.1341528743505478, Generator Loss: 1.4718807935714722\n",
      "Epoch 780, Discriminator Loss: 0.1309717893600464, Generator Loss: 1.4987186193466187\n",
      "Epoch 790, Discriminator Loss: 0.13026539981365204, Generator Loss: 1.5205057859420776\n",
      "Epoch 800, Discriminator Loss: 0.141543909907341, Generator Loss: 1.5037555694580078\n",
      "Epoch 810, Discriminator Loss: 0.12503103911876678, Generator Loss: 1.5358699560165405\n",
      "Epoch 820, Discriminator Loss: 0.1189863458275795, Generator Loss: 1.5765585899353027\n",
      "Epoch 830, Discriminator Loss: 0.10827577114105225, Generator Loss: 1.5873404741287231\n",
      "Epoch 840, Discriminator Loss: 1.6736558675765991, Generator Loss: 1.6283564567565918\n",
      "Epoch 850, Discriminator Loss: 0.11328496038913727, Generator Loss: 1.6007815599441528\n",
      "Epoch 860, Discriminator Loss: 0.11972223967313766, Generator Loss: 1.6171211004257202\n",
      "Epoch 870, Discriminator Loss: 0.11471705883741379, Generator Loss: 1.615744948387146\n",
      "Epoch 880, Discriminator Loss: 0.11121413111686707, Generator Loss: 1.6180133819580078\n",
      "Epoch 890, Discriminator Loss: 0.1137603372335434, Generator Loss: 1.6105713844299316\n",
      "Epoch 900, Discriminator Loss: 0.11366937309503555, Generator Loss: 1.6827787160873413\n",
      "Epoch 910, Discriminator Loss: 0.105202816426754, Generator Loss: 1.7302495241165161\n",
      "Epoch 920, Discriminator Loss: 0.09677485376596451, Generator Loss: 1.7690143585205078\n",
      "Epoch 930, Discriminator Loss: 2.4294838905334473, Generator Loss: 1.8697632551193237\n",
      "Epoch 940, Discriminator Loss: 1.6491118669509888, Generator Loss: 1.8649230003356934\n",
      "Epoch 950, Discriminator Loss: 3.215411424636841, Generator Loss: 1.9608818292617798\n",
      "Epoch 960, Discriminator Loss: 0.07831910252571106, Generator Loss: 1.9593496322631836\n",
      "Epoch 970, Discriminator Loss: 0.10943667590618134, Generator Loss: 1.734748125076294\n",
      "Epoch 980, Discriminator Loss: 0.09815444052219391, Generator Loss: 1.7964097261428833\n",
      "Epoch 990, Discriminator Loss: 0.09507942199707031, Generator Loss: 1.8074160814285278\n",
      "[[-0.9978743  -0.11484217 -0.8224546   0.95171934  0.99979097  0.9998536\n",
      "   0.80806357  0.9408759  -0.48878136]\n",
      " [-0.9560685  -0.04176169 -0.54160154  0.6453808   0.984552    0.9929137\n",
      "   0.54102504  0.6530574  -0.27794728]\n",
      " [-0.9817585  -0.23900005 -0.5433937   0.8186349   0.9973599   0.9977267\n",
      "   0.6448688   0.75659543 -0.2015168 ]\n",
      " [-0.99094486 -0.13265316 -0.77945215  0.88482547  0.9992483   0.9991167\n",
      "   0.5633815   0.8466938  -0.3363145 ]\n",
      " [-0.99812406 -0.287713   -0.88376284  0.9354193   0.9998538   0.9998917\n",
      "   0.88266987  0.9286712  -0.15346582]]\n",
      "Shape of synthetic data: (12000, 9)\n"
     ]
    }
   ],
   "source": [
    "# Train the GAN for 1000 epochs (adjust the number of epochs based on your computational resources)\n",
    "train_gan(epochs=1000, batch_size=64)\n",
    "\n",
    "# Generate synthetic data without inverse scaling for now\n",
    "def generate_synthetic_data(generator, num_samples):\n",
    "    noise = torch.randn(num_samples, latent_dim)\n",
    "    synthetic_data = generator(noise).detach().numpy()\n",
    "    return synthetic_data  # Skipping inverse scaling for now\n",
    "\n",
    "# Generate 1000 synthetic samples\n",
    "synthetic_data = generate_synthetic_data(generator, num_samples=12000)\n",
    "print(synthetic_data[:5])  # Display the first 5 synthetic samples\n",
    "\n",
    "# Check the shape\n",
    "print(\"Shape of synthetic data:\", synthetic_data.shape)"
   ]
  },
  {
   "cell_type": "code",
   "execution_count": 40,
   "metadata": {},
   "outputs": [
    {
     "name": "stdout",
     "output_type": "stream",
     "text": [
      "isFraud\n",
      "0    6354407\n",
      "1      20213\n",
      "Name: count, dtype: int64\n"
     ]
    }
   ],
   "source": [
    "# Convert the synthetic data into a DataFrame\n",
    "synthetic_df = pd.DataFrame(synthetic_data, columns=df.columns)\n",
    "\n",
    "# Label the synthetic data as fraudulent\n",
    "synthetic_df['isFraud'] = 1  # Assuming all synthetic data represents fraudulent transactions\n",
    "\n",
    "# Now combine the real and synthetic datasets\n",
    "combined_df = pd.concat([df, synthetic_df], ignore_index=True)\n",
    "\n",
    "# Check the distribution of the target variable to see if the dataset is balanced\n",
    "print(combined_df['isFraud'].value_counts())  # This will show the number of fraudulent and non-fraudulent samples"
   ]
  },
  {
   "cell_type": "markdown",
   "metadata": {},
   "source": [
    "# Feature Extraction\n"
   ]
  },
  {
   "cell_type": "code",
   "execution_count": 41,
   "metadata": {},
   "outputs": [
    {
     "name": "stdout",
     "output_type": "stream",
     "text": [
      "Co-relation Matrix :- \n"
     ]
    },
    {
     "data": {
      "image/png": "[encoded data removed]",
      "text/plain": [
       "<Figure size 800x800 with 2 Axes>"
      ]
     },
     "metadata": {},
     "output_type": "display_data"
    }
   ],
   "source": [
    "print(\"Co-relation Matrix :- \")\n",
    "plt.figure(figsize=(8, 8))\n",
    "sns.heatmap(df.corr(), \n",
    "            annot=True, \n",
    "            linewidths=0.9, \n",
    "            fmt=\".1f\", vmin=-1, vmax=1,\n",
    "            cmap='coolwarm')\n",
    "plt.show()"
   ]
  },
  {
   "cell_type": "markdown",
   "metadata": {},
   "source": [
    "# Dropping unnecessary columns based on correlation"
   ]
  },
  {
   "cell_type": "code",
   "execution_count": 42,
   "metadata": {},
   "outputs": [
    {
     "data": {
      "text/plain": [
       "Index(['step', 'type', 'amount', 'oldbalanceOrg', 'newbalanceDest', 'isFraud',\n",
       "       'isFlaggedFraud'],\n",
       "      dtype='object')"
      ]
     },
     "execution_count": 42,
     "metadata": {},
     "output_type": "execute_result"
    }
   ],
   "source": [
    "df.drop(['newbalanceOrig', 'oldbalanceDest'], axis=1, inplace=True)\n",
    "df.columns"
   ]
  },
  {
   "cell_type": "code",
   "execution_count": 43,
   "metadata": {},
   "outputs": [
    {
     "name": "stdout",
     "output_type": "stream",
     "text": [
      "<class 'pandas.core.frame.DataFrame'>\n",
      "RangeIndex: 6362620 entries, 0 to 6362619\n",
      "Data columns (total 7 columns):\n",
      " #   Column          Dtype  \n",
      "---  ------          -----  \n",
      " 0   step            int64  \n",
      " 1   type            int64  \n",
      " 2   amount          float64\n",
      " 3   oldbalanceOrg   float64\n",
      " 4   newbalanceDest  float64\n",
      " 5   isFraud         int64  \n",
      " 6   isFlaggedFraud  int64  \n",
      "dtypes: float64(3), int64(4)\n",
      "memory usage: 339.8 MB\n"
     ]
    }
   ],
   "source": [
    "df.info()"
   ]
  },
  {
   "cell_type": "markdown",
   "metadata": {},
   "source": [
    " # Splitting the data between train and target"
   ]
  },
  {
   "cell_type": "code",
   "execution_count": 44,
   "metadata": {},
   "outputs": [
    {
     "name": "stdout",
     "output_type": "stream",
     "text": [
      "X shape is :  (6362620, 6)\n",
      "\n",
      "Y shape is :  (6362620,)\n"
     ]
    }
   ],
   "source": [
    "# X Data\n",
    "x = df.drop(['isFraud'], axis=1)\n",
    "print('X shape is : ' , x.shape)\n",
    "print()\n",
    "\n",
    "# y Data\n",
    "y = df['isFraud']\n",
    "print('Y shape is : ' , y.shape)"
   ]
  },
  {
   "cell_type": "code",
   "execution_count": 45,
   "metadata": {},
   "outputs": [
    {
     "name": "stdout",
     "output_type": "stream",
     "text": [
      "X_train shape is  (4453834, 6)\n",
      "X_test shape is  (1908786, 6)\n",
      "y_train shape is  (4453834,)\n",
      "y_test shape is  (1908786,)\n"
     ]
    }
   ],
   "source": [
    "X_train, X_test, y_train, y_test = train_test_split(x, y, test_size=0.3, random_state=42, shuffle=True)\n",
    "\n",
    "# Splitted Data\n",
    "print('X_train shape is ' , X_train.shape)\n",
    "print('X_test shape is ' , X_test.shape)\n",
    "print('y_train shape is ' , y_train.shape)\n",
    "print('y_test shape is ' , y_test.shape)"
   ]
  },
  {
   "cell_type": "markdown",
   "metadata": {},
   "source": [
    "# Training the ML Model "
   ]
  },
  {
   "cell_type": "code",
   "execution_count": 46,
   "metadata": {},
   "outputs": [],
   "source": [
    "def train_isolation_forest(df, contamination=0.01, random_state=42):\n",
    "    # Scale the features\n",
    "\n",
    "    features = ['step', 'type', 'amount', 'oldbalanceOrg', 'newbalanceDest']\n",
    "    X = df[features]\n",
    "    \n",
    "    # Scale the features\n",
    "    scaler = StandardScaler()\n",
    "    X_scaled = scaler.fit_transform(X)\n",
    "    # scaler = StandardScaler()\n",
    "    # X_scaled = scaler.fit_transform(df)\n",
    "    \n",
    "    # Create and train the Isolation Forest model\n",
    "    iso_forest = IsolationForest(\n",
    "        contamination=contamination,\n",
    "        random_state=random_state,\n",
    "        n_estimators=100,\n",
    "        max_samples='auto'\n",
    "    )\n",
    "    \n",
    "    # Fit the model and get predictions\n",
    "    # Isolation Forest returns 1 for inliers and -1 for outliers\n",
    "    predictions = iso_forest.fit_predict(X_scaled)\n",
    "    \n",
    "    # Convert predictions to binary (0 for normal, 1 for fraud)\n",
    "    # Convert -1 to 1 (fraud) and 1 to 0 (normal)\n",
    "    binary_predictions = np.where(predictions == -1, 1, 0)\n",
    "    \n",
    "    # Calculate evaluation metrics if true labels are available\n",
    "    if 'isFraud' in df.columns:\n",
    "        true_labels = df['isFraud']\n",
    "        print(\"\\nModel Performance:\")\n",
    "        print(\"\\nClassification Report:\")\n",
    "        print(classification_report(true_labels, binary_predictions))\n",
    "        \n",
    "        # Create confusion matrix\n",
    "        cm = confusion_matrix(true_labels, binary_predictions)\n",
    "        plt.figure(figsize=(8, 6))\n",
    "        sns.heatmap(cm, annot=True, fmt='d', cmap='Blues')\n",
    "        plt.title('Confusion Matrix')\n",
    "        plt.ylabel('True Label')\n",
    "        plt.xlabel('Predicted Label')\n",
    "        plt.show()\n",
    "    \n",
    "    # Add predictions to the original dataframe\n",
    "    df['predicted_fraud'] = binary_predictions\n",
    "    \n",
    "    # Calculate anomaly scores\n",
    "    anomaly_scores = iso_forest.score_samples(X_scaled)\n",
    "    df['anomaly_score'] = anomaly_scores\n",
    "    \n",
    "    return {\n",
    "        'model': iso_forest,\n",
    "        'scaler': scaler,\n",
    "        'predictions': binary_predictions,\n",
    "        'anomaly_scores': anomaly_scores,\n",
    "        'processed_data': df\n",
    "    }"
   ]
  },
  {
   "cell_type": "code",
   "execution_count": 47,
   "metadata": {},
   "outputs": [
    {
     "name": "stdout",
     "output_type": "stream",
     "text": [
      "\n",
      "Model Performance:\n",
      "\n",
      "Classification Report:\n",
      "              precision    recall  f1-score   support\n",
      "\n",
      "           0       1.00      0.99      0.99   6354407\n",
      "           1       0.04      0.28      0.06      8213\n",
      "\n",
      "    accuracy                           0.99   6362620\n",
      "   macro avg       0.52      0.63      0.53   6362620\n",
      "weighted avg       1.00      0.99      0.99   6362620\n",
      "\n"
     ]
    },
    {
     "data": {
      "image/png": "[encoded data removed]",
      "text/plain": [
       "<Figure size 800x600 with 2 Axes>"
      ]
     },
     "metadata": {},
     "output_type": "display_data"
    }
   ],
   "source": [
    "# Assuming your data is in a pandas DataFrame called 'df'\n",
    "\n",
    "# Train the model\n",
    "results = train_isolation_forest(df, contamination=0.01)\n",
    "\n",
    "# Make predictions on new data\n",
    "#new_predictions, new_scores = predict_new_transactions(results, new_data)\n",
    "\n",
    "# Access the processed data with predictions and anomaly scores\n",
    "processed_data = results['processed_data']\n",
    "\n",
    "# Access the trained model and scaler for future use\n",
    "trained_model = results['model']\n",
    "trained_scaler = results['scaler']"
   ]
  },
  {
   "cell_type": "markdown",
   "metadata": {},
   "source": [
    "# Predicting the New or Test data"
   ]
  },
  {
   "cell_type": "code",
   "execution_count": 48,
   "metadata": {},
   "outputs": [],
   "source": [
    "def predict_new_transactions(model_dict, transaction_list):\n",
    "    # Extract only the needed features (first 5 values)\n",
    "    features = transaction_list[:5]\n",
    "    \n",
    "    # Reshape for single prediction\n",
    "    X_new = np.array(features).reshape(1, -1)\n",
    "    \n",
    "    # Scale the features\n",
    "    X_new_scaled = model_dict['scaler'].transform(X_new)\n",
    "    \n",
    "    # Get prediction\n",
    "    prediction = model_dict['model'].predict(X_new_scaled)\n",
    "    binary_prediction = 1 if prediction[0] == -1 else 0\n",
    "    \n",
    "    # Get anomaly score\n",
    "    anomaly_score = model_dict['model'].score_samples(X_new_scaled)[0]\n",
    "    \n",
    "    return binary_prediction, anomaly_score"
   ]
  },
  {
   "cell_type": "code",
   "execution_count": 50,
   "metadata": {},
   "outputs": [
    {
     "name": "stdout",
     "output_type": "stream",
     "text": [
      "1 -0.8352936328758067\n"
     ]
    }
   ],
   "source": [
    "predict = [3009,0,98399999.64,17099999136.0,160299999996.36]\n",
    "new_predictions, new_scores = predict_new_transactions(results, predict)\n",
    "print(new_predictions , new_scores)"
   ]
  },
  {
   "cell_type": "code",
   "execution_count": null,
   "metadata": {},
   "outputs": [],
   "source": []
  }
 ],
 "metadata": {
  "kernelspec": {
   "display_name": "base",
   "language": "python",
   "name": "python3"
  },
  "language_info": {
   "codemirror_mode": {
    "name": "ipython",
    "version": 3
   },
   "file_extension": ".py",
   "mimetype": "text/x-python",
   "name": "python",
   "nbconvert_exporter": "python",
   "pygments_lexer": "ipython3",
   "version": "3.12.7"
  }
 },
 "nbformat": 4,
 "nbformat_minor": 2
}
